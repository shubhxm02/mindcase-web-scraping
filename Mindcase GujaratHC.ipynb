{
 "cells": [
  {
   "cell_type": "code",
   "execution_count": 1,
   "id": "aa944e03",
   "metadata": {},
   "outputs": [],
   "source": [
    "import cv2\n",
    "import numpy as np\n",
    "import pytesseract\n",
    "import requests\n",
    "from selenium import webdriver\n",
    "from selenium.webdriver.common.by import By\n",
    "from selenium.webdriver.support.ui import WebDriverWait\n",
    "from selenium.webdriver.support import expected_conditions as EC"
   ]
  },
  {
   "cell_type": "code",
   "execution_count": 2,
   "id": "9b60369d",
   "metadata": {},
   "outputs": [
    {
     "name": "stderr",
     "output_type": "stream",
     "text": [
      "/Users/shubhamgulati/.pyenv/versions/3.10.6/envs/mindcase-scraping/lib/python3.10/site-packages/tqdm/auto.py:21: TqdmWarning: IProgress not found. Please update jupyter and ipywidgets. See https://ipywidgets.readthedocs.io/en/stable/user_install.html\n",
      "  from .autonotebook import tqdm as notebook_tqdm\n",
      "Could not find image processor class in the image processor config or the model config. Loading based on pattern matching with the model's feature extractor configuration.\n",
      "Some weights of VisionEncoderDecoderModel were not initialized from the model checkpoint at microsoft/trocr-base-printed and are newly initialized: ['encoder.pooler.dense.weight', 'encoder.pooler.dense.bias']\n",
      "You should probably TRAIN this model on a down-stream task to be able to use it for predictions and inference.\n"
     ]
    }
   ],
   "source": [
    "from transformers import TrOCRProcessor, VisionEncoderDecoderModel\n",
    "from PIL import Image\n",
    "import matplotlib.pyplot as plt\n",
    "\n",
    "processor = TrOCRProcessor.from_pretrained('microsoft/trocr-base-printed')\n",
    "model = VisionEncoderDecoderModel.from_pretrained('microsoft/trocr-base-printed')"
   ]
  },
  {
   "cell_type": "code",
   "execution_count": 3,
   "id": "8afc130d",
   "metadata": {},
   "outputs": [],
   "source": [
    "# Specify the path to the ChromeDriver executable\n",
    "PATH = r\"/Users/shubhamgulati/Downloads/chromedriver-mac-arm64/chromedriver\"\n",
    "# PATH = r\"/opt/homebrew/bin/chromedriver\"\n",
    "\n",
    "# Set the ChromeDriver executable path using the Service class\n",
    "service = webdriver.chrome.service.Service(PATH)"
   ]
  },
  {
   "cell_type": "code",
   "execution_count": 4,
   "id": "b7855cda",
   "metadata": {},
   "outputs": [],
   "source": [
    "def extract_captcha():\n",
    "    # Load the CAPTCHA image\n",
    "    image = cv2.imread(\"captcha.png\")\n",
    "\n",
    "    pixel_values = processor(images=image, return_tensors=\"pt\").pixel_values\n",
    "    generated_ids = model.generate(pixel_values)\n",
    "    generated_text = processor.batch_decode(generated_ids, skip_special_tokens=True)[0]\n",
    "\n",
    "    plt.imshow(image)\n",
    "    plt.show()\n",
    "    print(generated_text)\n",
    "\n",
    "    return generated_text"
   ]
  },
  {
   "cell_type": "code",
   "execution_count": 23,
   "id": "a7a58401",
   "metadata": {},
   "outputs": [
    {
     "data": {
      "image/png": "[encoded data removed]",
      "text/plain": [
       "<Figure size 640x480 with 1 Axes>"
      ]
     },
     "metadata": {},
     "output_type": "display_data"
    },
    {
     "name": "stdout",
     "output_type": "stream",
     "text": [
      "48479\n",
      "Extracted 5-Digit Number: 48479\n",
      "[]\n"
     ]
    }
   ],
   "source": [
    "# Create a Chrome WebDriver instance with the service\n",
    "driver = webdriver.Chrome(service=service)\n",
    "\n",
    "# Now you can use the driver to navigate to a URL\n",
    "driver.get(\"https://gujarathc-casestatus.nic.in/gujarathc/\")\n",
    "\n",
    "# Locate the \"FREE TEXT SEARCH\" element by its 'alt' attribute\n",
    "search_element = driver.find_element(By.XPATH, '//img[@alt=\"FREE TEXT SEARCH\"]')\n",
    "search_element.click()\n",
    "\n",
    "wait = WebDriverWait(driver, 10)\n",
    "\n",
    "# Use an explicit wait to wait for the \"st1\" element to be present\n",
    "search_input = wait.until(EC.presence_of_element_located((By.ID, \"st1\")))\n",
    "search_input.send_keys(\"hello\")\n",
    "\n",
    "# Locate and click the \"Go\" button based on the provided HTML structure\n",
    "go_button = driver.find_element(By.XPATH, '//button[@onclick=\"openCaptcha();\"]')\n",
    "go_button.click()\n",
    "\n",
    "# Wait for the CAPTCHA image to load\n",
    "captcha_element = wait.until(EC.presence_of_element_located((By.ID, \"stringCaptcha\")))\n",
    "\n",
    "# Save a screenshot of the CAPTCHA image\n",
    "with open(\"captcha.png\", \"wb\") as captcha_file:\n",
    "    captcha_file.write(captcha_element.screenshot_as_png)\n",
    "\n",
    "# Extract the 5-digit number from the CAPTCHA\n",
    "captcha_text = extract_captcha()\n",
    "print(\"Extracted 5-Digit Number:\", captcha_text)\n",
    "\n",
    "# Find and fill the input field\n",
    "answer_input = wait.until(EC.presence_of_element_located((By.ID, \"challengestring\")))\n",
    "answer_input.send_keys(captcha_text)\n",
    "\n",
    "# Click the \"Search\" button\n",
    "search_button = driver.find_element(By.ID, \"search_btn\")\n",
    "search_button.click()\n",
    "\n",
    "wait.until(EC.presence_of_element_located((By.ID, \"users_info\")))\n",
    "\n",
    "# similar_elements = driver.find_elements(By.TAG_NAME, \"a\")\n",
    "# for element in similar_elements:\n",
    "#     print(element.get_attribute('onclick'))\n",
    "\n",
    "pdfs = driver.find_elements(By.XPATH, '//a[contains(@onclick, \"downloadPdf\")]')\n",
    "print(pdfs)\n",
    "for pdf in pdfs:\n",
    "    print(pdf.get_attribute(\"onclick\"))"
   ]
  },
  {
   "cell_type": "code",
   "execution_count": null,
   "id": "d647b6f0",
   "metadata": {},
   "outputs": [],
   "source": []
  },
  {
   "cell_type": "code",
   "execution_count": null,
   "id": "12e7f391",
   "metadata": {},
   "outputs": [],
   "source": []
  },
  {
   "cell_type": "code",
   "execution_count": null,
   "id": "644a16b5",
   "metadata": {},
   "outputs": [],
   "source": []
  },
  {
   "cell_type": "code",
   "execution_count": null,
   "id": "bef941ac",
   "metadata": {},
   "outputs": [],
   "source": []
  },
  {
   "cell_type": "code",
   "execution_count": 10,
   "id": "6c185668",
   "metadata": {
    "scrolled": false
   },
   "outputs": [
    {
     "data": {
      "image/png": "[encoded data removed]",
      "text/plain": [
       "<Figure size 640x480 with 1 Axes>"
      ]
     },
     "metadata": {},
     "output_type": "display_data"
    },
    {
     "name": "stdout",
     "output_type": "stream",
     "text": [
      "37785\n",
      "Extracted 5-Digit Number: 37785\n"
     ]
    }
   ],
   "source": [
    "import cv2\n",
    "import numpy as np\n",
    "import pytesseract\n",
    "import requests\n",
    "from selenium import webdriver\n",
    "from selenium.webdriver.common.by import By\n",
    "from selenium.webdriver.support.ui import WebDriverWait\n",
    "from selenium.webdriver.support import expected_conditions as EC\n",
    "\n",
    "# Function to preprocess and extract the CAPTCHA\n",
    "def extract_captcha_text(driver):\n",
    "    # Wait for the CAPTCHA image to load\n",
    "    captcha_element = wait.until(EC.presence_of_element_located((By.ID, \"stringCaptcha\")))\n",
    "    captcha_image_url = captcha_element.get_attribute(\"src\")\n",
    "\n",
    "    # Download the CAPTCHA image\n",
    "    captcha_response = requests.get(captcha_image_url)\n",
    "    with open(\"captcha.png\", \"wb\") as captcha_file:\n",
    "        captcha_file.write(captcha_response.content)\n",
    "\n",
    "    # Load the CAPTCHA image\n",
    "    captcha_img = cv2.imread(\"captcha.png\")\n",
    "\n",
    "    # Improve CAPTCHA image quality\n",
    "    # Apply blurring to the black grid background\n",
    "    black_grid_mask = cv2.inRange(captcha_img, (0, 0, 0), (100, 100, 100))\n",
    "    blurred_black_grid = cv2.GaussianBlur(captcha_img, (9, 9), 0, dst=captcha_img, mask=black_grid_mask)\n",
    "\n",
    "    # Apply blurring to the thick red line\n",
    "    red_line_mask = cv2.inRange(captcha_img, (0, 0, 100), (0, 0, 255))\n",
    "    blurred_red_line = cv2.GaussianBlur(captcha_img, (9, 9), 0, dst=captcha_img, mask=red_line_mask)\n",
    "\n",
    "    # Convert the image to grayscale\n",
    "    gray_img = cv2.cvtColor(captcha_img, cv2.COLOR_BGR2GRAY)\n",
    "\n",
    "    # Apply thresholding to isolate the digits\n",
    "    _, thresholded = cv2.threshold(gray_img, 0, 255, cv2.THRESH_BINARY + cv2.THRESH_OTSU)\n",
    "\n",
    "    # Perform morphological operations to remove noise\n",
    "    kernel = np.ones((3, 3), np.uint8)\n",
    "    opening = cv2.morphologyEx(thresholded, cv2.MORPH_OPEN, kernel, iterations=2)\n",
    "    sure_bg = cv2.dilate(opening, kernel, iterations=3)\n",
    "\n",
    "    # Find contours of the digits\n",
    "    contours, _ = cv2.findContours(sure_bg.copy(), cv2.RETR_EXTERNAL, cv2.CHAIN_APPROX_SIMPLE)\n",
    "\n",
    "    # Filter out small contours (noise)\n",
    "    MIN_CONTOUR_AREA = 100\n",
    "    filtered_contours = [cnt for cnt in contours if cv2.contourArea(cnt) > MIN_CONTOUR_AREA]\n",
    "\n",
    "    # Create a mask to remove the background\n",
    "    mask = np.zeros(gray_img.shape, np.uint8)\n",
    "    cv2.drawContours(mask, filtered_contours, -1, 255, -1)\n",
    "\n",
    "    # Remove the thick red lines by inpainting (assuming the line is continuous)\n",
    "    line_mask = cv2.inRange(captcha_img, (0, 0, 100), (0, 0, 255))\n",
    "    inpainted_img = cv2.inpaint(captcha_img, line_mask, inpaintRadius=3, flags=cv2.INPAINT_TELEA)\n",
    "\n",
    "    # Apply the mask to isolate the digits\n",
    "    result = cv2.bitwise_and(inpainted_img, inpainted_img, mask=mask)\n",
    "\n",
    "    # Extract the text from the cleaned image using OCR\n",
    "    captcha_text = pytesseract.image_to_string(result, config='--psm 6')\n",
    "\n",
    "    return captcha_text\n",
    "\n",
    "# Specify the path to the ChromeDriver executable\n",
    "PATH = r\"/Users/shubhamgulati/Downloads/chromedriver-mac-arm64/chromedriver\"\n",
    "\n",
    "# PATH = r\"/Users/shubhamgulati/Downloads/chromedriver_mac64/chromedriver\"\n",
    "# PATH = r'/usr/local/bin/chromedriver'\n",
    "\n",
    "# Set the ChromeDriver executable path using the Service class\n",
    "service = webdriver.chrome.service.Service(PATH)\n",
    "\n",
    "# Create a Chrome WebDriver instance with the service\n",
    "driver = webdriver.Chrome(service=service)\n",
    "\n",
    "# Now you can use the driver to navigate to a URL\n",
    "driver.get(\"https://gujarathc-casestatus.nic.in/gujarathc/\")\n",
    "\n",
    "# Locate the \"FREE TEXT SEARCH\" element by its 'alt' attribute\n",
    "search_element = driver.find_element(By.XPATH, '//img[@alt=\"FREE TEXT SEARCH\"]')\n",
    "search_element.click()\n",
    "\n",
    "# Use an explicit wait to wait for the \"st1\" element to be present\n",
    "wait = WebDriverWait(driver, 10)\n",
    "search_input = wait.until(EC.presence_of_element_located((By.ID, \"st1\")))\n",
    "search_input.send_keys(\"iim\")\n",
    "\n",
    "# Locate and click the \"Go\" button based on the provided HTML structure\n",
    "go_button = driver.find_element(By.XPATH, '//button[@onclick=\"openCaptcha();\"]')\n",
    "go_button.click()\n",
    "\n",
    "# Extract the 5-digit number from the CAPTCHA\n",
    "captcha_text = extract_captcha(driver)\n",
    "print(\"Extracted 5-Digit Number:\", captcha_text)\n",
    "\n",
    "# Find and fill the input field\n",
    "answer_input = wait.until(EC.presence_of_element_located((By.ID, \"challengestring\")))\n",
    "answer_input.send_keys(captcha_text)\n",
    "\n",
    "# Click the \"Search\" button\n",
    "search_button = driver.find_element(By.ID, \"search_btn\")\n",
    "search_button.click()\n",
    "\n"
   ]
  },
  {
   "cell_type": "code",
   "execution_count": 23,
   "id": "09264d1b",
   "metadata": {},
   "outputs": [],
   "source": []
  },
  {
   "cell_type": "code",
   "execution_count": 20,
   "id": "dd633a41",
   "metadata": {},
   "outputs": [
    {
     "name": "stdout",
     "output_type": "stream",
     "text": [
      "\n"
     ]
    }
   ],
   "source": [
    "from PIL import Image\n",
    "import pytesseract\n",
    "\n",
    "image = Image.open('captcha.png')\n",
    "\n",
    "text = pytesseract.image_to_string(image)\n",
    "\n",
    "print(text)\n"
   ]
  },
  {
   "cell_type": "code",
   "execution_count": null,
   "id": "aea69d39",
   "metadata": {},
   "outputs": [],
   "source": []
  },
  {
   "cell_type": "code",
   "execution_count": null,
   "id": "6cddd9c1",
   "metadata": {},
   "outputs": [],
   "source": []
  },
  {
   "cell_type": "code",
   "execution_count": 16,
   "id": "af199640",
   "metadata": {},
   "outputs": [
    {
     "name": "stderr",
     "output_type": "stream",
     "text": [
      "Could not find image processor class in the image processor config or the model config. Loading based on pattern matching with the model's feature extractor configuration.\n",
      "Some weights of VisionEncoderDecoderModel were not initialized from the model checkpoint at microsoft/trocr-base-printed and are newly initialized: ['encoder.pooler.dense.bias', 'encoder.pooler.dense.weight']\n",
      "You should probably TRAIN this model on a down-stream task to be able to use it for predictions and inference.\n"
     ]
    }
   ],
   "source": [
    "from transformers import TrOCRProcessor, VisionEncoderDecoderModel\n",
    "from PIL import Image\n",
    "import matplotlib.pyplot as plt\n",
    "\n",
    "processor = TrOCRProcessor.from_pretrained('microsoft/trocr-base-printed')\n",
    "model = VisionEncoderDecoderModel.from_pretrained('microsoft/trocr-base-printed')\n"
   ]
  },
  {
   "cell_type": "code",
   "execution_count": 19,
   "id": "e5eb8a54",
   "metadata": {},
   "outputs": [
    {
     "data": {
      "image/png": "[encoded data removed]",
      "text/plain": [
       "<Figure size 640x480 with 1 Axes>"
      ]
     },
     "metadata": {},
     "output_type": "display_data"
    },
    {
     "name": "stdout",
     "output_type": "stream",
     "text": [
      "03782\n"
     ]
    }
   ],
   "source": [
    "image = Image.open('captcha2.png')\n",
    "\n",
    "pixel_values = processor(images=image, return_tensors=\"pt\").pixel_values\n",
    "generated_ids = model.generate(pixel_values)\n",
    "generated_text = processor.batch_decode(generated_ids, skip_special_tokens=True)[0]\n",
    "\n",
    "plt.imshow(image)\n",
    "plt.show()\n",
    "print(generated_text)"
   ]
  },
  {
   "cell_type": "code",
   "execution_count": null,
   "id": "1f41ae38",
   "metadata": {},
   "outputs": [],
   "source": []
  },
  {
   "cell_type": "code",
   "execution_count": null,
   "metadata": {},
   "outputs": [],
   "source": []
  },
  {
   "cell_type": "code",
   "execution_count": null,
   "metadata": {},
   "outputs": [],
   "source": []
  },
  {
   "cell_type": "code",
   "execution_count": 24,
   "metadata": {},
   "outputs": [
    {
     "name": "stderr",
     "output_type": "stream",
     "text": [
      "Downloading (…)rocessor_config.json: 100%|██████████| 450/450 [00:00<00:00, 434kB/s]\n",
      "Downloading (…)okenizer_config.json: 100%|██████████| 510/510 [00:00<00:00, 2.57MB/s]\n",
      "Downloading (…)tencepiece.bpe.model: 100%|██████████| 1.36M/1.36M [00:01<00:00, 1.03MB/s]\n",
      "Downloading (…)/main/tokenizer.json: 100%|██████████| 4.49M/4.49M [00:02<00:00, 2.05MB/s]\n",
      "Downloading (…)cial_tokens_map.json: 100%|██████████| 279/279 [00:00<00:00, 716kB/s]\n",
      "Downloading (…)lve/main/config.json: 100%|██████████| 4.87k/4.87k [00:00<00:00, 8.32MB/s]\n",
      "Downloading pytorch_model.bin: 100%|██████████| 247M/247M [01:15<00:00, 3.29MB/s] \n",
      "Downloading (…)neration_config.json: 100%|██████████| 303/303 [00:00<00:00, 1.53MB/s]\n"
     ]
    },
    {
     "data": {
      "image/png": "[encoded data removed]",
      "text/plain": [
       "<Figure size 640x480 with 1 Axes>"
      ]
     },
     "metadata": {},
     "output_type": "display_data"
    },
    {
     "name": "stdout",
     "output_type": "stream",
     "text": [
      "\n"
     ]
    },
    {
     "data": {
      "text/plain": [
       "''"
      ]
     },
     "execution_count": 24,
     "metadata": {},
     "output_type": "execute_result"
    }
   ],
   "source": [
    "from transformers import VisionEncoderDecoderModel, TrOCRProcessor\n",
    "\n",
    "processor = TrOCRProcessor.from_pretrained(\"zenoda/trocr-captcha-killer\")\n",
    "model = VisionEncoderDecoderModel.from_pretrained(\"zenoda/trocr-captcha-killer\")\n"
   ]
  }
 ],
 "metadata": {
  "kernelspec": {
   "display_name": "Python 3 (ipykernel)",
   "language": "python",
   "name": "python3"
  },
  "language_info": {
   "codemirror_mode": {
    "name": "ipython",
    "version": 3
   },
   "file_extension": ".py",
   "mimetype": "text/x-python",
   "name": "python",
   "nbconvert_exporter": "python",
   "pygments_lexer": "ipython3",
   "version": "3.10.6"
  }
 },
 "nbformat": 4,
 "nbformat_minor": 5
}
