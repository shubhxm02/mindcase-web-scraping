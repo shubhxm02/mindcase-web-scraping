{
 "cells": [
  {
   "cell_type": "markdown",
   "metadata": {},
   "source": [
    "https://judgments.ecourts.gov.in/pdfsearch/"
   ]
  },
  {
   "cell_type": "code",
   "execution_count": 39,
   "metadata": {},
   "outputs": [],
   "source": [
    "import requests\n",
    "from selenium import webdriver\n",
    "from selenium.webdriver.common.by import By\n",
    "from selenium.webdriver.support.ui import WebDriverWait\n",
    "from selenium.webdriver.support import expected_conditions as EC"
   ]
  },
  {
   "cell_type": "code",
   "execution_count": 3,
   "metadata": {},
   "outputs": [
    {
     "name": "stderr",
     "output_type": "stream",
     "text": [
      "/Users/shubhamgulati/.pyenv/versions/3.10.6/envs/mindcase-scraping/lib/python3.10/site-packages/tqdm/auto.py:21: TqdmWarning: IProgress not found. Please update jupyter and ipywidgets. See https://ipywidgets.readthedocs.io/en/stable/user_install.html\n",
      "  from .autonotebook import tqdm as notebook_tqdm\n",
      "Could not find image processor class in the image processor config or the model config. Loading based on pattern matching with the model's feature extractor configuration.\n",
      "Some weights of VisionEncoderDecoderModel were not initialized from the model checkpoint at microsoft/trocr-base-printed and are newly initialized: ['encoder.pooler.dense.bias', 'encoder.pooler.dense.weight']\n",
      "You should probably TRAIN this model on a down-stream task to be able to use it for predictions and inference.\n"
     ]
    }
   ],
   "source": [
    "from transformers import TrOCRProcessor, VisionEncoderDecoderModel\n",
    "import matplotlib.pyplot as plt\n",
    "import cv2\n",
    "\n",
    "processor = TrOCRProcessor.from_pretrained('microsoft/trocr-base-printed')\n",
    "model = VisionEncoderDecoderModel.from_pretrained('microsoft/trocr-base-printed')"
   ]
  },
  {
   "cell_type": "code",
   "execution_count": 4,
   "metadata": {},
   "outputs": [],
   "source": [
    "# Specify the path to the ChromeDriver executable\n",
    "PATH = r\"/Users/shubhamgulati/Downloads/chromedriver-mac-arm64/chromedriver\"\n",
    "# PATH = r\"/opt/homebrew/bin/chromedriver\"\n",
    "\n",
    "# Set the ChromeDriver executable path using the Service class\n",
    "service = webdriver.chrome.service.Service(PATH)"
   ]
  },
  {
   "cell_type": "code",
   "execution_count": 5,
   "metadata": {},
   "outputs": [],
   "source": [
    "def extract_captcha():\n",
    "    # Load the CAPTCHA image\n",
    "    image = cv2.imread(\"captchaa.png\")\n",
    "\n",
    "    pixel_values = processor(images=image, return_tensors=\"pt\").pixel_values\n",
    "    generated_ids = model.generate(pixel_values)\n",
    "    generated_text = processor.batch_decode(generated_ids, skip_special_tokens=True)[0]\n",
    "\n",
    "    plt.imshow(image)\n",
    "    plt.show()\n",
    "    print(generated_text)\n",
    "\n",
    "    return generated_text"
   ]
  },
  {
   "cell_type": "code",
   "execution_count": 51,
   "metadata": {},
   "outputs": [
    {
     "name": "stdout",
     "output_type": "stream",
     "text": [
      "Link opened successfully\n",
      "Search text entered\n",
      "Captcha image found\n",
      "Captcha image saved\n"
     ]
    },
    {
     "data": {
      "image/png": "[encoded data removed]",
      "text/plain": [
       "<Figure size 640x480 with 1 Axes>"
      ]
     },
     "metadata": {},
     "output_type": "display_data"
    },
    {
     "name": "stdout",
     "output_type": "stream",
     "text": [
      "378969\n",
      "Captcha text extracted\n",
      "Captcha text entered\n",
      "Search button clicked\n"
     ]
    }
   ],
   "source": [
    "# Create a Chrome WebDriver instance with the service\n",
    "driver = webdriver.Chrome(service=service)\n",
    "\n",
    "# Navigate to the URL\n",
    "driver.get('https://judgments.ecourts.gov.in/pdfsearch/')\n",
    "\n",
    "print('Link opened successfully') \n",
    "\n",
    "wait = WebDriverWait(driver, 10)\n",
    "\n",
    "# Get search field using the 'search_text' id\n",
    "search_field = driver.find_element(By.ID, 'search_text')\n",
    "search_field.send_keys('iim')\n",
    "\n",
    "print('Search text entered')\n",
    "\n",
    "# Get captcha image using the 'captcha_image' id\n",
    "captcha_element = driver.find_element(By.ID, 'captcha_image')\n",
    "\n",
    "print('Captcha image found')\n",
    "\n",
    "# Save a screenshot of the CAPTCHA image\n",
    "with open(\"captchaa.png\", \"wb\") as captcha_file:\n",
    "    captcha_file.write(captcha_element.screenshot_as_png)\n",
    "\n",
    "print('Captcha image saved')\n",
    "\n",
    "# Extract the CAPTCHA text from the image\n",
    "captcha_text = extract_captcha()\n",
    "\n",
    "print('Captcha text extracted')\n",
    "\n",
    "# Enter captcha text in the 'captcha' text field\n",
    "captcha_text_element = driver.find_element(By.ID, 'captcha')\n",
    "captcha_text_element.send_keys(captcha_text)\n",
    "\n",
    "print('Captcha text entered')\n",
    "\n",
    "# Click on the 'main_search' button\n",
    "search_button = driver.find_element(By.ID, 'main_search')\n",
    "search_button.click()\n",
    "\n",
    "print('Search button clicked')"
   ]
  },
  {
   "cell_type": "code",
   "execution_count": 50,
   "metadata": {},
   "outputs": [
    {
     "ename": "NoSuchWindowException",
     "evalue": "Message: no such window: target window already closed\nfrom unknown error: web view not found\n  (Session info: chrome=119.0.6045.105)\nStacktrace:\n0   chromedriver                        0x000000010128a004 chromedriver + 4169732\n1   chromedriver                        0x0000000101281ff8 chromedriver + 4136952\n2   chromedriver                        0x0000000100ed7500 chromedriver + 292096\n3   chromedriver                        0x0000000100eb02d8 chromedriver + 131800\n4   chromedriver                        0x0000000100f43f68 chromedriver + 737128\n5   chromedriver                        0x0000000100f56fac chromedriver + 815020\n6   chromedriver                        0x0000000100f105e8 chromedriver + 525800\n7   chromedriver                        0x0000000100f114b8 chromedriver + 529592\n8   chromedriver                        0x0000000101250334 chromedriver + 3932980\n9   chromedriver                        0x0000000101254970 chromedriver + 3950960\n10  chromedriver                        0x0000000101238774 chromedriver + 3835764\n11  chromedriver                        0x0000000101255478 chromedriver + 3953784\n12  chromedriver                        0x000000010122aab4 chromedriver + 3779252\n13  chromedriver                        0x0000000101271914 chromedriver + 4069652\n14  chromedriver                        0x0000000101271a90 chromedriver + 4070032\n15  chromedriver                        0x0000000101281c70 chromedriver + 4136048\n16  libsystem_pthread.dylib             0x0000000189b43034 _pthread_start + 136\n17  libsystem_pthread.dylib             0x0000000189b3de3c thread_start + 8\n",
     "output_type": "error",
     "traceback": [
      "\u001b[0;31m---------------------------------------------------------------------------\u001b[0m",
      "\u001b[0;31mNoSuchWindowException\u001b[0m                     Traceback (most recent call last)",
      "\u001b[1;32m/Users/shubhamgulati/Development/Mindcase/scraping-gujarathc/MindcaseSC.ipynb Cell 7\u001b[0m line \u001b[0;36m2\n\u001b[1;32m      <a href='vscode-notebook-cell:/Users/shubhamgulati/Development/Mindcase/scraping-gujarathc/MindcaseSC.ipynb#W6sZmlsZQ%3D%3D?line=0'>1</a>\u001b[0m \u001b[39m# Click button with id 'link_0' to open the first result\u001b[39;00m\n\u001b[0;32m----> <a href='vscode-notebook-cell:/Users/shubhamgulati/Development/Mindcase/scraping-gujarathc/MindcaseSC.ipynb#W6sZmlsZQ%3D%3D?line=1'>2</a>\u001b[0m link_0 \u001b[39m=\u001b[39m driver\u001b[39m.\u001b[39;49mfind_element(By\u001b[39m.\u001b[39;49mID, \u001b[39m'\u001b[39;49m\u001b[39mlink_0\u001b[39;49m\u001b[39m'\u001b[39;49m)\n\u001b[1;32m      <a href='vscode-notebook-cell:/Users/shubhamgulati/Development/Mindcase/scraping-gujarathc/MindcaseSC.ipynb#W6sZmlsZQ%3D%3D?line=2'>3</a>\u001b[0m link_0\u001b[39m.\u001b[39mclick()\n\u001b[1;32m      <a href='vscode-notebook-cell:/Users/shubhamgulati/Development/Mindcase/scraping-gujarathc/MindcaseSC.ipynb#W6sZmlsZQ%3D%3D?line=4'>5</a>\u001b[0m \u001b[39mprint\u001b[39m(\u001b[39m'\u001b[39m\u001b[39mLink_0 clicked\u001b[39m\u001b[39m'\u001b[39m)\n",
      "File \u001b[0;32m~/.pyenv/versions/3.10.6/envs/mindcase-scraping/lib/python3.10/site-packages/selenium/webdriver/remote/webdriver.py:741\u001b[0m, in \u001b[0;36mWebDriver.find_element\u001b[0;34m(self, by, value)\u001b[0m\n\u001b[1;32m    738\u001b[0m     by \u001b[39m=\u001b[39m By\u001b[39m.\u001b[39mCSS_SELECTOR\n\u001b[1;32m    739\u001b[0m     value \u001b[39m=\u001b[39m \u001b[39mf\u001b[39m\u001b[39m'\u001b[39m\u001b[39m[name=\u001b[39m\u001b[39m\"\u001b[39m\u001b[39m{\u001b[39;00mvalue\u001b[39m}\u001b[39;00m\u001b[39m\"\u001b[39m\u001b[39m]\u001b[39m\u001b[39m'\u001b[39m\n\u001b[0;32m--> 741\u001b[0m \u001b[39mreturn\u001b[39;00m \u001b[39mself\u001b[39;49m\u001b[39m.\u001b[39;49mexecute(Command\u001b[39m.\u001b[39;49mFIND_ELEMENT, {\u001b[39m\"\u001b[39;49m\u001b[39musing\u001b[39;49m\u001b[39m\"\u001b[39;49m: by, \u001b[39m\"\u001b[39;49m\u001b[39mvalue\u001b[39;49m\u001b[39m\"\u001b[39;49m: value})[\u001b[39m\"\u001b[39m\u001b[39mvalue\u001b[39m\u001b[39m\"\u001b[39m]\n",
      "File \u001b[0;32m~/.pyenv/versions/3.10.6/envs/mindcase-scraping/lib/python3.10/site-packages/selenium/webdriver/remote/webdriver.py:347\u001b[0m, in \u001b[0;36mWebDriver.execute\u001b[0;34m(self, driver_command, params)\u001b[0m\n\u001b[1;32m    345\u001b[0m response \u001b[39m=\u001b[39m \u001b[39mself\u001b[39m\u001b[39m.\u001b[39mcommand_executor\u001b[39m.\u001b[39mexecute(driver_command, params)\n\u001b[1;32m    346\u001b[0m \u001b[39mif\u001b[39;00m response:\n\u001b[0;32m--> 347\u001b[0m     \u001b[39mself\u001b[39;49m\u001b[39m.\u001b[39;49merror_handler\u001b[39m.\u001b[39;49mcheck_response(response)\n\u001b[1;32m    348\u001b[0m     response[\u001b[39m\"\u001b[39m\u001b[39mvalue\u001b[39m\u001b[39m\"\u001b[39m] \u001b[39m=\u001b[39m \u001b[39mself\u001b[39m\u001b[39m.\u001b[39m_unwrap_value(response\u001b[39m.\u001b[39mget(\u001b[39m\"\u001b[39m\u001b[39mvalue\u001b[39m\u001b[39m\"\u001b[39m, \u001b[39mNone\u001b[39;00m))\n\u001b[1;32m    349\u001b[0m     \u001b[39mreturn\u001b[39;00m response\n",
      "File \u001b[0;32m~/.pyenv/versions/3.10.6/envs/mindcase-scraping/lib/python3.10/site-packages/selenium/webdriver/remote/errorhandler.py:229\u001b[0m, in \u001b[0;36mErrorHandler.check_response\u001b[0;34m(self, response)\u001b[0m\n\u001b[1;32m    227\u001b[0m         alert_text \u001b[39m=\u001b[39m value[\u001b[39m\"\u001b[39m\u001b[39malert\u001b[39m\u001b[39m\"\u001b[39m]\u001b[39m.\u001b[39mget(\u001b[39m\"\u001b[39m\u001b[39mtext\u001b[39m\u001b[39m\"\u001b[39m)\n\u001b[1;32m    228\u001b[0m     \u001b[39mraise\u001b[39;00m exception_class(message, screen, stacktrace, alert_text)  \u001b[39m# type: ignore[call-arg]  # mypy is not smart enough here\u001b[39;00m\n\u001b[0;32m--> 229\u001b[0m \u001b[39mraise\u001b[39;00m exception_class(message, screen, stacktrace)\n",
      "\u001b[0;31mNoSuchWindowException\u001b[0m: Message: no such window: target window already closed\nfrom unknown error: web view not found\n  (Session info: chrome=119.0.6045.105)\nStacktrace:\n0   chromedriver                        0x000000010128a004 chromedriver + 4169732\n1   chromedriver                        0x0000000101281ff8 chromedriver + 4136952\n2   chromedriver                        0x0000000100ed7500 chromedriver + 292096\n3   chromedriver                        0x0000000100eb02d8 chromedriver + 131800\n4   chromedriver                        0x0000000100f43f68 chromedriver + 737128\n5   chromedriver                        0x0000000100f56fac chromedriver + 815020\n6   chromedriver                        0x0000000100f105e8 chromedriver + 525800\n7   chromedriver                        0x0000000100f114b8 chromedriver + 529592\n8   chromedriver                        0x0000000101250334 chromedriver + 3932980\n9   chromedriver                        0x0000000101254970 chromedriver + 3950960\n10  chromedriver                        0x0000000101238774 chromedriver + 3835764\n11  chromedriver                        0x0000000101255478 chromedriver + 3953784\n12  chromedriver                        0x000000010122aab4 chromedriver + 3779252\n13  chromedriver                        0x0000000101271914 chromedriver + 4069652\n14  chromedriver                        0x0000000101271a90 chromedriver + 4070032\n15  chromedriver                        0x0000000101281c70 chromedriver + 4136048\n16  libsystem_pthread.dylib             0x0000000189b43034 _pthread_start + 136\n17  libsystem_pthread.dylib             0x0000000189b3de3c thread_start + 8\n"
     ]
    }
   ],
   "source": [
    "# Click button with id 'link_0' to open the first result\n",
    "link_0 = driver.find_element(By.ID, 'link_0')\n",
    "link_0.click()\n",
    "\n",
    "print('Link_0 clicked')\n",
    "\n",
    "# wait for the new tab to open\n",
    "wait.until(EC.number_of_windows_to_be(2))\n",
    "\n",
    "# switch to the new tab\n",
    "driver.switch_to.window(driver.window_handles[1])\n",
    "\n",
    "# copy the link of the new tab\n",
    "link = driver.current_url\n",
    "print(link)\n",
    "\n",
    "# download the pdf\n",
    "destination = '1.pdf'\n",
    "response = requests.get(link)\n",
    "with open(destination, 'wb') as output_file:\n",
    "    output_file.write(response.content)\n",
    "\n",
    "# close the new tab\n",
    "driver.close()\n",
    "\n",
    "# wait to close the link\n",
    "wait.until(EC.number_of_windows_to_be(1))\n",
    "\n",
    "print('New tab closed')\n",
    "\n",
    "# switch back to the original tab\n",
    "driver.switch_to.window(driver.window_handles[0])\n",
    "\n",
    "print('Link opened successfully')\n"
   ]
  },
  {
   "cell_type": "code",
   "execution_count": 45,
   "metadata": {},
   "outputs": [],
   "source": [
    "# given a url which opens a pdf directly, download the pdf\n",
    "\n",
    "\n",
    "driver.switch_to.window(driver.window_handles[0])\n"
   ]
  },
  {
   "cell_type": "code",
   "execution_count": 58,
   "metadata": {},
   "outputs": [],
   "source": [
    "def download_pdf(index, id):\n",
    "    # Click button with id 'link_0' to open the first result\n",
    "    link = driver.find_element(By.ID, 'link_' + str(id))\n",
    "    print(link.text)\n",
    "    return\n",
    "    link.click()\n",
    "\n",
    "    print('Link_' + str(id) + ' clicked')\n",
    "\n",
    "    # wait for the new tab to open\n",
    "    wait.until(EC.number_of_windows_to_be(2))\n",
    "\n",
    "    # switch to the new tab\n",
    "    driver.switch_to.window(driver.window_handles[1])\n",
    "\n",
    "    # copy the link of the new tab\n",
    "    url = driver.current_url\n",
    "    print(url)\n",
    "\n",
    "    # download the pdf\n",
    "    destination = 'pdfs/' + str(index) + '.pdf'\n",
    "    response = requests.get(url)\n",
    "    with open(destination, 'wb') as output_file:\n",
    "        output_file.write(response.content)\n",
    "\n",
    "    # close the new tab\n",
    "    driver.close()\n",
    "\n",
    "    # wait to close the link\n",
    "    wait.until(EC.number_of_windows_to_be(1))\n",
    "\n",
    "    print('New tab closed')\n",
    "\n",
    "    # switch back to the original tab\n",
    "    driver.switch_to.window(driver.window_handles[0])\n",
    "\n",
    "    print('Link opened successfully')"
   ]
  },
  {
   "cell_type": "code",
   "execution_count": 57,
   "metadata": {},
   "outputs": [
    {
     "name": "stdout",
     "output_type": "stream",
     "text": [
      "Link_0 clicked\n",
      "https://judgments.ecourts.gov.in//judgments_lib/tmp/e9a0b10ee50343a274c9b4b8936487926fb8fe7db426d8fdbc67d1686ae775c31699439551.pdf\n",
      "New tab closed\n",
      "Link opened successfully\n"
     ]
    }
   ],
   "source": [
    "# call the download function 36068 times and after every 10 calls go to the next page\n",
    "for i in range(0, 36068):\n",
    "    download_pdf(i, i % 10)\n",
    "    if i % 10 == 9:\n",
    "        # click button with id 'example_pdf_next'\n",
    "        driver.find_element(By.ID, 'example_pdf_next').click()\n",
    "        wait.until(EC.number_of_windows_to_be(1))"
   ]
  },
  {
   "cell_type": "code",
   "execution_count": 56,
   "metadata": {},
   "outputs": [],
   "source": [
    "driver.switch_to.window(driver.window_handles[0])"
   ]
  },
  {
   "cell_type": "code",
   "execution_count": null,
   "metadata": {},
   "outputs": [],
   "source": []
  }
 ],
 "metadata": {
  "kernelspec": {
   "display_name": "mindcase-scraping",
   "language": "python",
   "name": "python3"
  },
  "language_info": {
   "codemirror_mode": {
    "name": "ipython",
    "version": 3
   },
   "file_extension": ".py",
   "mimetype": "text/x-python",
   "name": "python",
   "nbconvert_exporter": "python",
   "pygments_lexer": "ipython3",
   "version": "3.10.6"
  }
 },
 "nbformat": 4,
 "nbformat_minor": 2
}
